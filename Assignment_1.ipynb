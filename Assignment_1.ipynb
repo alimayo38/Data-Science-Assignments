{
  "nbformat": 4,
  "nbformat_minor": 0,
  "metadata": {
    "colab": {
      "provenance": []
    },
    "kernelspec": {
      "name": "python3",
      "display_name": "Python 3"
    },
    "language_info": {
      "name": "python"
    }
  },
  "cells": [
    {
      "cell_type": "code",
      "source": [
        "\n",
        "# 3/9/2024\n",
        "# CSC461 – Assignment1 – Web Scraping\n",
        "# ALI SHAKEEL\n",
        "# FA21-BSE-099\n",
        "# Task #1\n",
        "# The task #1 involves creating a Python web scraper to extract top 250  movies 'title' and 'rating' and duration  IMDB movie pages with a one-second delay between requests and exporting the data  to a CSV file (tabular format).\n",
        "import requests\n",
        "from bs4 import BeautifulSoup\n",
        "import time\n",
        "import pandas"
      ],
      "metadata": {
        "id": "H5yhzPRgwJiv"
      },
      "execution_count": 27,
      "outputs": []
    },
    {
      "cell_type": "code",
      "source": [
        "headers = {'User-Agent': 'Mozilla/5.0 (Macintosh; Intel Mac OS X 10_11_5) AppleWebKit/537.36 (KHTML, like Gecko) Chrome/50.0.2661.102 Safari/537.36'}\n",
        "url = \"https://www.imdb.com/chart/top/?ref_=nv_mv_250\"\n",
        "response = requests.get(url, headers=headers)\n",
        "html_content = response.content\n",
        "movies=[]\n",
        "soup = BeautifulSoup(html_content,\"html5lib\")\n",
        "for child in soup.find(class_=\"ipc-metadata-list ipc-metadata-list--dividers-between sc-a1e81754-0 eBRbsI compact-list-view ipc-metadata-list--base\").children:\n",
        "\n",
        "  parts = child.h3.text.split('. ', 1)\n",
        "  movie_name = parts[1]\n",
        "  spans=child.find_all('span')\n",
        "  secondspan=spans[2]\n",
        "  ratings=child.find('div',class_=\"sc-e2dbc1a3-0 ajrIH sc-b0691f29-2 bhhtyj cli-ratings-container\")\n",
        "  rat=ratings.find('span')\n",
        "  movies.append({'NAME': movie_name, 'Duration': secondspan.text,'Ratings': rat.text })\n",
        "\n",
        ""
      ],
      "metadata": {
        "id": "mQSFYLi9w-HI"
      },
      "execution_count": 30,
      "outputs": []
    },
    {
      "cell_type": "code",
      "source": [
        "dataFrame = pandas.DataFrame(movies)\n",
        "dataFrame"
      ],
      "metadata": {
        "id": "IJN-Uqcu2r8y"
      },
      "execution_count": null,
      "outputs": []
    },
    {
      "cell_type": "code",
      "source": [
        "# 3/9/2024\n",
        "# CSC461 – Assignment1 – Web Scraping\n",
        "# ALI SHAKEEL\n",
        "# FA21-BSE-099\n",
        "# Task #2\n",
        "#Create a web scraper in Python (preferably a Jupyter Notebook) to fetch the ‘Mars Planet Profile’ data from the URL given below. You must save the data in an Excel format (tabular data).\n"
      ],
      "metadata": {
        "id": "0nFtja_X4Hm7"
      },
      "execution_count": null,
      "outputs": []
    },
    {
      "cell_type": "code",
      "source": [
        "headers = {'User-Agent': 'Mozilla/5.0 (Macintosh; Intel Mac OS X 10_11_5) AppleWebKit/537.36 (KHTML, like Gecko) Chrome/50.0.2661.102 Safari/537.36'}\n",
        "url = \"https://space-facts.com/mars/\"\n",
        "response = requests.get(url, headers=headers)\n",
        "html_content = response.content\n",
        "soup = BeautifulSoup(html_content,\"html5lib\")\n",
        "table = soup.find(class_=\"tablepress tablepress-id-p-mars\")\n",
        "table_data = []\n",
        "\n",
        "if table:\n",
        "    for row in table.find_all('tr'):\n",
        "\n",
        "        cells = row.find_all('td')\n",
        "        if cells:\n",
        "\n",
        "            category = cells[0].text.strip().replace(':', '') if len(cells) > 0 else ''\n",
        "            value = cells[1].text.strip() if len(cells) > 1 else ''\n",
        "            table_data.append({'Category': category, 'Value': value})\n",
        "    df = pandas.DataFrame(table_data)\n",
        "    excel_filename = \"table_data.xlsx\"\n",
        "    df.to_excel(excel_filename, index=False, engine='openpyxl')\n",
        "\n",
        "    print(f\"DataFrame exported to {excel_filename} successfully.\\n\\n\\n\\n\")\n",
        "    print(df)\n",
        "else:\n",
        "    print(\"Table not found.\")"
      ],
      "metadata": {
        "colab": {
          "base_uri": "https://localhost:8080/"
        },
        "id": "xFwxhRQa4_s0",
        "outputId": "9f46b60c-0790-4461-856c-30daa5deb2c9"
      },
      "execution_count": 46,
      "outputs": [
        {
          "output_type": "stream",
          "name": "stdout",
          "text": [
            "DataFrame exported to table_data.xlsx successfully.\n",
            "\n",
            "\n",
            "\n",
            "\n",
            "              Category                           Value\n",
            "0  Equatorial Diameter                        6,792 km\n",
            "1       Polar Diameter                        6,752 km\n",
            "2                 Mass  6.39 × 10^23 kg\\n(0.11 Earths)\n",
            "3                Moons             2 (Phobos & Deimos)\n",
            "4       Orbit Distance       227,943,824 km\\n(1.38 AU)\n",
            "5         Orbit Period            687 days (1.9 years)\n",
            "6  Surface Temperature                    -87 to -5 °C\n",
            "7         First Record               2nd millennium BC\n",
            "8          Recorded By            Egyptian astronomers\n"
          ]
        }
      ]
    },
    {
      "cell_type": "code",
      "source": [],
      "metadata": {
        "id": "MqA83Tc4-ICt"
      },
      "execution_count": null,
      "outputs": []
    }
  ]
}